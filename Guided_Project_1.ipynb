{
 "cells": [
  {
   "cell_type": "markdown",
   "metadata": {},
   "source": [
    "#  A mystery app profile that shows huge revenue potential\n",
    "\n",
    "##  The search for an unknown app profile with the potential for maximized profits from in-app ads\n",
    "\n",
    "    I've gathered you here today to assist in the search of a mystery app profile with the highest potential to generate revenue from in-app advertisements.  Needless to say this is top priority and the suits from HQ want our brightest minds on this to help unravel this mystery.  The important conditions on our mystery app are that it is in english and that it is free.\n",
    "    We have 3 main objectives to complete this mission:\n",
    "                                                        1) Data Cleaning\n",
    "                                                        2) Data Analysis\n",
    "                                                        3) Building an app profile"
   ]
  },
  {
   "cell_type": "markdown",
   "metadata": {},
   "source": [
    "## Data Cleaning\n",
    "    We live in an imperfect world, and that means imperfect raw data.  I know it's not glamorous, but putting in    the leg work now cleaning this raw data means that we can trust the results of our analysis.  \n",
    "    Our tasks are as follows:\n",
    "                                            1) Removing the header row from each dataset\n",
    "                                            2) Detecting and removing any rows with missing information\n",
    "                                            3) Detecting and removing any duplicate rows\n",
    "                                            4) Removing any non english apps\n",
    "                                            5) Removing any paid apps\n",
    "                                            "
   ]
  },
  {
   "cell_type": "markdown",
   "metadata": {},
   "source": [
    "## 1)  \n",
    "First off we must import the necessary data.  At this time we will also separate the header row from the rest of the dataset."
   ]
  },
  {
   "cell_type": "code",
   "execution_count": 41,
   "metadata": {},
   "outputs": [],
   "source": [
    "# imports appropriate module for parsing csv files\n",
    "from csv import reader\n",
    "\n",
    "#opens csv file and stores it as a list of lists\n",
    "opened_file_apple = open('AppleStore.csv')\n",
    "read_file_apple = reader(opened_file_apple)\n",
    "apple_store_data = list(read_file_apple)\n",
    "apple_store_header = apple_store_data[0] # this stores the header row seperately from the rest of the dataset\n",
    "apple_store_data = apple_store_data[1:]\n",
    "\n",
    "opened_file_google = open('googleplaystore.csv')\n",
    "read_file_google = reader(opened_file_google)\n",
    "google_play_data = list(read_file_google)\n",
    "google_play_header = google_play_data[0] # this stores the header row seperately from the rest of the dataset\n",
    "google_play_data = google_play_data[1:]"
   ]
  },
  {
   "cell_type": "markdown",
   "metadata": {},
   "source": [
    "HQ (Dataquest) has also provided us with a function to explore our datasets.  This function will take the dataset and row indeces as the arguments.  There is also the optional argument for rows_and_columns, setting this argument to True will provide us with the dimensions of our datasets.  We removed the header rows so these dimensions could be as accurate as possible."
   ]
  },
  {
   "cell_type": "code",
   "execution_count": 42,
   "metadata": {},
   "outputs": [],
   "source": [
    "def explore_data(dataset, start, end, rows_and_columns=False):\n",
    "    dataset_slice = dataset[start:end]    \n",
    "    for row in dataset_slice:\n",
    "        print(row)\n",
    "        print('\\n') # adds a new (empty) line after each row\n",
    "\n",
    "    if rows_and_columns:\n",
    "        print('Number of rows:', len(dataset))\n",
    "        print('Number of columns:', len(dataset[0]))"
   ]
  },
  {
   "cell_type": "markdown",
   "metadata": {},
   "source": [
    "Okay team, with our function written let's dive into our datasets.  Nobody likes to get their boots dirty, but this is where the real work happens."
   ]
  },
  {
   "cell_type": "code",
   "execution_count": 43,
   "metadata": {},
   "outputs": [
    {
     "name": "stdout",
     "output_type": "stream",
     "text": [
      "['284882215', 'Facebook', '389879808', 'USD', '0.0', '2974676', '212', '3.5', '3.5', '95.0', '4+', 'Social Networking', '37', '1', '29', '1']\n",
      "\n",
      "\n",
      "['389801252', 'Instagram', '113954816', 'USD', '0.0', '2161558', '1289', '4.5', '4.0', '10.23', '12+', 'Photo & Video', '37', '0', '29', '1']\n",
      "\n",
      "\n",
      "['529479190', 'Clash of Clans', '116476928', 'USD', '0.0', '2130805', '579', '4.5', '4.5', '9.24.12', '9+', 'Games', '38', '5', '18', '1']\n",
      "\n",
      "\n",
      "['420009108', 'Temple Run', '65921024', 'USD', '0.0', '1724546', '3842', '4.5', '4.0', '1.6.2', '9+', 'Games', '40', '5', '1', '1']\n",
      "\n",
      "\n",
      "['284035177', 'Pandora - Music & Radio', '130242560', 'USD', '0.0', '1126879', '3594', '4.0', '4.5', '8.4.1', '12+', 'Music', '37', '4', '1', '1']\n",
      "\n",
      "\n",
      "Number of rows: 7197\n",
      "Number of columns: 16\n"
     ]
    }
   ],
   "source": [
    "explore_data(apple_store_data, 0, 5, True) #displays the first 5 rows and prints the dimensions of the dataset"
   ]
  },
  {
   "cell_type": "code",
   "execution_count": 44,
   "metadata": {},
   "outputs": [
    {
     "name": "stdout",
     "output_type": "stream",
     "text": [
      "['Photo Editor & Candy Camera & Grid & ScrapBook', 'ART_AND_DESIGN', '4.1', '159', '19M', '10,000+', 'Free', '0', 'Everyone', 'Art & Design', 'January 7, 2018', '1.0.0', '4.0.3 and up']\n",
      "\n",
      "\n",
      "['Coloring book moana', 'ART_AND_DESIGN', '3.9', '967', '14M', '500,000+', 'Free', '0', 'Everyone', 'Art & Design;Pretend Play', 'January 15, 2018', '2.0.0', '4.0.3 and up']\n",
      "\n",
      "\n",
      "['U Launcher Lite – FREE Live Cool Themes, Hide Apps', 'ART_AND_DESIGN', '4.7', '87510', '8.7M', '5,000,000+', 'Free', '0', 'Everyone', 'Art & Design', 'August 1, 2018', '1.2.4', '4.0.3 and up']\n",
      "\n",
      "\n",
      "['Sketch - Draw & Paint', 'ART_AND_DESIGN', '4.5', '215644', '25M', '50,000,000+', 'Free', '0', 'Teen', 'Art & Design', 'June 8, 2018', 'Varies with device', '4.2 and up']\n",
      "\n",
      "\n",
      "['Pixel Draw - Number Art Coloring Book', 'ART_AND_DESIGN', '4.3', '967', '2.8M', '100,000+', 'Free', '0', 'Everyone', 'Art & Design;Creativity', 'June 20, 2018', '1.1', '4.4 and up']\n",
      "\n",
      "\n",
      "Number of rows: 10841\n",
      "Number of columns: 13\n"
     ]
    }
   ],
   "source": [
    "explore_data(google_play_data, 0, 5, True)"
   ]
  },
  {
   "cell_type": "markdown",
   "metadata": {},
   "source": [
    "And let's print our header rows as a reference for our analysis."
   ]
  },
  {
   "cell_type": "code",
   "execution_count": 45,
   "metadata": {},
   "outputs": [
    {
     "name": "stdout",
     "output_type": "stream",
     "text": [
      "['App', 'Category', 'Rating', 'Reviews', 'Size', 'Installs', 'Type', 'Price', 'Content Rating', 'Genres', 'Last Updated', 'Current Ver', 'Android Ver']\n",
      "\n",
      "\n",
      "['id', 'track_name', 'size_bytes', 'currency', 'price', 'rating_count_tot', 'rating_count_ver', 'user_rating', 'user_rating_ver', 'ver', 'cont_rating', 'prime_genre', 'sup_devices.num', 'ipadSc_urls.num', 'lang.num', 'vpp_lic']\n"
     ]
    }
   ],
   "source": [
    "print(google_play_header)\n",
    "print('\\n')\n",
    "print(apple_store_header)"
   ]
  },
  {
   "cell_type": "markdown",
   "metadata": {},
   "source": [
    "Excellent start! From a cursory view of our datasets we are definitely going to be interested in the ratings, genres, app name and number of reviews."
   ]
  },
  {
   "cell_type": "markdown",
   "metadata": {},
   "source": [
    "## 2)"
   ]
  },
  {
   "cell_type": "markdown",
   "metadata": {},
   "source": [
    "    Now intel has shown that one of the rows in our Google play dataset has an error.  Specifically we are missing a value for one of the columns in row 10472, and this has resulted in the other columns shifting.  \n",
    "    Let's investige!"
   ]
  },
  {
   "cell_type": "code",
   "execution_count": 46,
   "metadata": {},
   "outputs": [
    {
     "data": {
      "text/plain": [
       "[['Xposed Wi-Fi-Pwd',\n",
       "  'PERSONALIZATION',\n",
       "  '3.5',\n",
       "  '1042',\n",
       "  '404k',\n",
       "  '100,000+',\n",
       "  'Free',\n",
       "  '0',\n",
       "  'Everyone',\n",
       "  'Personalization',\n",
       "  'August 5, 2014',\n",
       "  '3.0.0',\n",
       "  '4.0.3 and up'],\n",
       " ['Life Made WI-Fi Touchscreen Photo Frame',\n",
       "  '1.9',\n",
       "  '19',\n",
       "  '3.0M',\n",
       "  '1,000+',\n",
       "  'Free',\n",
       "  '0',\n",
       "  'Everyone',\n",
       "  '',\n",
       "  'February 11, 2018',\n",
       "  '1.0.19',\n",
       "  '4.0 and up'],\n",
       " ['osmino Wi-Fi: free WiFi',\n",
       "  'TOOLS',\n",
       "  '4.2',\n",
       "  '134203',\n",
       "  '4.1M',\n",
       "  '10,000,000+',\n",
       "  'Free',\n",
       "  '0',\n",
       "  'Everyone',\n",
       "  'Tools',\n",
       "  'August 7, 2018',\n",
       "  '6.06.14',\n",
       "  '4.4 and up']]"
      ]
     },
     "execution_count": 46,
     "metadata": {},
     "output_type": "execute_result"
    }
   ],
   "source": [
    "google_play_data[10471:10474]"
   ]
  },
  {
   "cell_type": "markdown",
   "metadata": {},
   "source": [
    "Our intel proved correct.  We are missing the genre and the other values have shifted over.  Since we do not know the genre of this app, our best move is to delete this row and continue with our cleaning."
   ]
  },
  {
   "cell_type": "code",
   "execution_count": 47,
   "metadata": {},
   "outputs": [],
   "source": [
    "del(google_play_data[10472])"
   ]
  },
  {
   "cell_type": "markdown",
   "metadata": {},
   "source": [
    "## 3)"
   ]
  },
  {
   "cell_type": "markdown",
   "metadata": {},
   "source": [
    "An important part of data cleaning is to ensure that we have only unique rows, so our next step will be to create a function that detects duplicate rows and returns the name of those rows in a list.  This list can then be used to filter the duplicates our of our datasets."
   ]
  },
  {
   "cell_type": "code",
   "execution_count": 48,
   "metadata": {},
   "outputs": [],
   "source": [
    "def detect_duplicate(dataset, index):\n",
    "    # creates empty lists to store the names of duplicate apps\n",
    "    duplicate_apps = []\n",
    "    unique_apps = []\n",
    "    # loops through the dataset adding app names to the duplicate list if they are already in the unique list\n",
    "    for row in dataset:\n",
    "        name = row[index]\n",
    "        if name in unique_apps:\n",
    "            duplicate_apps.append(name)\n",
    "        else:\n",
    "            unique_apps.append(name)\n",
    "    return duplicate_apps"
   ]
  },
  {
   "cell_type": "code",
   "execution_count": 49,
   "metadata": {},
   "outputs": [
    {
     "data": {
      "text/plain": [
       "['Mannequin Challenge', 'VR Roller Coaster']"
      ]
     },
     "execution_count": 49,
     "metadata": {},
     "output_type": "execute_result"
    }
   ],
   "source": [
    "apple_duplicate = detect_duplicate(apple_store_data, 1)\n",
    "apple_duplicate"
   ]
  },
  {
   "cell_type": "code",
   "execution_count": 50,
   "metadata": {},
   "outputs": [
    {
     "data": {
      "text/plain": [
       "1181"
      ]
     },
     "execution_count": 50,
     "metadata": {},
     "output_type": "execute_result"
    }
   ],
   "source": [
    "google_duplicate = detect_duplicate(google_play_data, 0)\n",
    "len(google_duplicate)"
   ]
  },
  {
   "cell_type": "markdown",
   "metadata": {},
   "source": [
    "Our duplicate list for the Google play store returned so many names we decided to simply print the length of the list to keep track of how many rows we will be deleting.\n",
    "Now let's look a the duplicate names from the apple store first."
   ]
  },
  {
   "cell_type": "code",
   "execution_count": 51,
   "metadata": {},
   "outputs": [
    {
     "name": "stdout",
     "output_type": "stream",
     "text": [
      "['1173990889', 'Mannequin Challenge', '109705216', 'USD', '0.0', '668', '87', '3.0', '3.0', '1.4', '9+', 'Games', '37', '4', '1', '1']\n",
      "['952877179', 'VR Roller Coaster', '169523200', 'USD', '0.0', '107', '102', '3.5', '3.5', '2.0.0', '4+', 'Games', '37', '5', '1', '1']\n",
      "['1178454060', 'Mannequin Challenge', '59572224', 'USD', '0.0', '105', '58', '4.0', '4.5', '1.0.1', '4+', 'Games', '38', '5', '1', '1']\n",
      "['1089824278', 'VR Roller Coaster', '240964608', 'USD', '0.0', '67', '44', '3.5', '4.0', '0.81', '4+', 'Games', '38', '0', '1', '1']\n"
     ]
    }
   ],
   "source": [
    "for row in apple_store_data:\n",
    "    name = row[1]\n",
    "    if name == 'Mannequin Challenge' or name == 'VR Roller Coaster':\n",
    "        print(row)"
   ]
  },
  {
   "cell_type": "markdown",
   "metadata": {},
   "source": [
    "Interesing.  Although they share the same name the ID's are different along with several other columns.  I think it is safe to say that these are all different apps and thus we will not be removing them from our dataset."
   ]
  },
  {
   "cell_type": "markdown",
   "metadata": {},
   "source": [
    "Now to tackle the google play duplicates.  There is no sense in just randomly deleting duplicates with no strategy in place, that is not how we impress the suits at HQ; we need criteria for deleting.  Since we know from our duplicate list that instagram has some copies, let's look at each copy."
   ]
  },
  {
   "cell_type": "code",
   "execution_count": 52,
   "metadata": {},
   "outputs": [
    {
     "name": "stdout",
     "output_type": "stream",
     "text": [
      "['Instagram', 'SOCIAL', '4.5', '66577313', 'Varies with device', '1,000,000,000+', 'Free', '0', 'Teen', 'Social', 'July 31, 2018', 'Varies with device', 'Varies with device']\n",
      "['Instagram', 'SOCIAL', '4.5', '66577446', 'Varies with device', '1,000,000,000+', 'Free', '0', 'Teen', 'Social', 'July 31, 2018', 'Varies with device', 'Varies with device']\n",
      "['Instagram', 'SOCIAL', '4.5', '66577313', 'Varies with device', '1,000,000,000+', 'Free', '0', 'Teen', 'Social', 'July 31, 2018', 'Varies with device', 'Varies with device']\n",
      "['Instagram', 'SOCIAL', '4.5', '66509917', 'Varies with device', '1,000,000,000+', 'Free', '0', 'Teen', 'Social', 'July 31, 2018', 'Varies with device', 'Varies with device']\n"
     ]
    }
   ],
   "source": [
    "for row in google_play_data:\n",
    "    name = row[0]\n",
    "    if name == 'Instagram':\n",
    "        print(row)"
   ]
  },
  {
   "cell_type": "markdown",
   "metadata": {},
   "source": [
    "Here we have 4 entries for the same app, all the information is the same except for number of reviews.  This actually provides us with the perfect criterion for deleting duplicates, the row with the highest number of ratings will be the most up to date, so this will be the row that we keep.  We will do this by creating a dictionary with app names as the key and number of reviews as the value, then filter our dataset with this dictionary to keep only unique apps with the most up to date information.  To check that we did this correctly, we know that the number of rows after deleting all the duplicates should be 10840 - 1181 = 9659."
   ]
  },
  {
   "cell_type": "code",
   "execution_count": 53,
   "metadata": {},
   "outputs": [
    {
     "data": {
      "text/plain": [
       "9659"
      ]
     },
     "execution_count": 53,
     "metadata": {},
     "output_type": "execute_result"
    }
   ],
   "source": [
    "reviews_max = {} #empty dictionary \n",
    "# loops through the dataset, when it encounters a duplicate name it either passesd it over or updates the\n",
    "#number of reviews if that number is higher than the one already in the dictionary\n",
    "for row in google_play_data:\n",
    "    name = row[0]\n",
    "    n_reviews = float(row[3])\n",
    "    if name in reviews_max and reviews_max[name] < n_reviews:\n",
    "        reviews_max[name] = n_reviews\n",
    "    elif name not in reviews_max:\n",
    "        reviews_max[name] = n_reviews\n",
    "len(reviews_max)"
   ]
  },
  {
   "cell_type": "markdown",
   "metadata": {},
   "source": [
    "Excellent work team!  Now we have a dictionary with only unique apps, using this we can create a dataset with only unique rows.  To do this we are going to create an empty list called android_unique to store our cleaned data.  We will also need an extra list on the off chance that two duplicates also have the same number of reviews.  A good team plans for every contingency, this is why HQ has trusted us with this important mission."
   ]
  },
  {
   "cell_type": "code",
   "execution_count": 54,
   "metadata": {},
   "outputs": [
    {
     "data": {
      "text/plain": [
       "9659"
      ]
     },
     "execution_count": 54,
     "metadata": {},
     "output_type": "execute_result"
    }
   ],
   "source": [
    "#creates two empty lists, one for unique apps and one just in case we have \n",
    "#two duplicates with the same number of reviews\n",
    "android_unique = []\n",
    "already_added = []\n",
    "#loops through the dataset, only adds the rows where the app name is in the dictionary and the \n",
    "#number of reviews matches the key value\n",
    "for row in google_play_data:\n",
    "    name = row[0]\n",
    "    n_reviews = float(row[3])\n",
    "    if n_reviews == reviews_max[name] and name not in already_added:\n",
    "        android_unique.append(row)\n",
    "        already_added.append(name)\n",
    "len(android_unique)"
   ]
  },
  {
   "cell_type": "markdown",
   "metadata": {},
   "source": [
    "## 4)"
   ]
  },
  {
   "cell_type": "markdown",
   "metadata": {},
   "source": [
    "Now that we have taken care of the duplicates, it's time to filter out non-english apps.  To do this we are going to take advantage of the ord() function in python that gives you a unique number assigned to each character by the ASCII.  We are going to check each app name and if a character put in the ord() function returns a value greater than 127, than the character is not common in english.  The one drawback is that emoji's and certain characters that could appear in english apps have values over 127, so to help make our filter more accurate, we are only going to keep names that have 3 or less characters with values over 127."
   ]
  },
  {
   "cell_type": "code",
   "execution_count": 55,
   "metadata": {},
   "outputs": [],
   "source": [
    "#this functions loops through the individual characters in a string and determines if they are english or not\n",
    "#the count keeps track of how many non english characters we find\n",
    "def non_english_character(string):\n",
    "    count = 0\n",
    "    for character in string:\n",
    "        if ord(character) > 127:\n",
    "            count += 1\n",
    "            if count == 3:\n",
    "                return False\n",
    "    return True"
   ]
  },
  {
   "cell_type": "code",
   "execution_count": 56,
   "metadata": {},
   "outputs": [
    {
     "data": {
      "text/plain": [
       "9597"
      ]
     },
     "execution_count": 56,
     "metadata": {},
     "output_type": "execute_result"
    }
   ],
   "source": [
    "english_android_clean = [] #empty list to store only the rows for english apps\n",
    "for row in android_unique:\n",
    "    name = row[0]\n",
    "    english = non_english_character(name)\n",
    "    if english == True:\n",
    "        english_android_clean.append(row)\n",
    "\n",
    "len(english_android_clean)   "
   ]
  },
  {
   "cell_type": "code",
   "execution_count": 57,
   "metadata": {},
   "outputs": [
    {
     "data": {
      "text/plain": [
       "6155"
      ]
     },
     "execution_count": 57,
     "metadata": {},
     "output_type": "execute_result"
    }
   ],
   "source": [
    "english_apple_clean = []\n",
    "for row in apple_store_data:\n",
    "    name = row[1]\n",
    "    english = non_english_character(name)\n",
    "    if english == True:\n",
    "        english_apple_clean.append(row)\n",
    "len(english_apple_clean)"
   ]
  },
  {
   "cell_type": "markdown",
   "metadata": {},
   "source": [
    "## 5)"
   ]
  },
  {
   "cell_type": "markdown",
   "metadata": {},
   "source": [
    "The last step is to remove all apps that cost money to install, as we are only interested in apps that are free to download and play but consist of in-game ads for revenue.  Let's filter out free apps from our datasets."
   ]
  },
  {
   "cell_type": "code",
   "execution_count": 58,
   "metadata": {},
   "outputs": [
    {
     "data": {
      "text/plain": [
       "3203"
      ]
     },
     "execution_count": 58,
     "metadata": {},
     "output_type": "execute_result"
    }
   ],
   "source": [
    "ios_free_clean = []\n",
    "ios_notfree_clean = []\n",
    "#checks the price column and filters out paid apps\n",
    "for row in english_apple_clean:\n",
    "    price = float(row[4])\n",
    "    if price == 0.0:\n",
    "        ios_free_clean.append(row)\n",
    "    else:\n",
    "        ios_notfree_clean.append(row)\n",
    "len(ios_free_clean)"
   ]
  },
  {
   "cell_type": "code",
   "execution_count": 59,
   "metadata": {},
   "outputs": [
    {
     "data": {
      "text/plain": [
       "8847"
      ]
     },
     "execution_count": 59,
     "metadata": {},
     "output_type": "execute_result"
    }
   ],
   "source": [
    "android_free_clean = []\n",
    "android_notfree_clean = []\n",
    "for row in english_android_clean:\n",
    "    price = row[6]\n",
    "    if price == 'Free':\n",
    "        android_free_clean.append(row)\n",
    "    else:\n",
    "        android_notfree_clean.append(row)\n",
    "len(android_free_clean)"
   ]
  },
  {
   "cell_type": "markdown",
   "metadata": {},
   "source": [
    "## Data Analysis"
   ]
  },
  {
   "cell_type": "markdown",
   "metadata": {},
   "source": [
    "Now that our datasets are clean we can begin the analysis.  The first step will be to see what are the most used genres for each dataset, this will help build a profile for the most profitable apps on both the Google Play Store and App Store.  This will involve using the genre columns and number of reviews and average reviews from both datasets."
   ]
  },
  {
   "cell_type": "code",
   "execution_count": 60,
   "metadata": {},
   "outputs": [],
   "source": [
    "#this generates a frequency table where the key is the genre and the value is the percentage\n",
    "#of total apps that are of a particular genre\n",
    "def freq_table(dataset, index):\n",
    "    frequency = {}\n",
    "    total = 0\n",
    "    for row in dataset:\n",
    "        genre = row[index]\n",
    "        total += 1\n",
    "        if genre in frequency:\n",
    "            frequency[genre] += 1\n",
    "        else:\n",
    "            frequency[genre] = 1\n",
    "    for genre in frequency:\n",
    "        frequency[genre] = (frequency[genre]/total)*100\n",
    "    return frequency"
   ]
  },
  {
   "cell_type": "code",
   "execution_count": 63,
   "metadata": {},
   "outputs": [],
   "source": [
    "#this uses the frequency table to display the percentage of apps in a particular genre\n",
    "def display_table(dataset, index):\n",
    "    table = freq_table(dataset, index)\n",
    "    table_display = []\n",
    "    for key in table:\n",
    "        key_val_as_tuple = (table[key], key)\n",
    "        table_display.append(key_val_as_tuple)\n",
    "\n",
    "    table_sorted = sorted(table_display, reverse = True) #sorts out list from highest percentage to lowest\n",
    "    for entry in table_sorted:\n",
    "        print(entry[1], ':', f'{entry[0]:.2f}''%')"
   ]
  },
  {
   "cell_type": "code",
   "execution_count": 64,
   "metadata": {},
   "outputs": [
    {
     "name": "stdout",
     "output_type": "stream",
     "text": [
      "Games : 58.26%\n",
      "Entertainment : 7.84%\n",
      "Photo & Video : 5.00%\n",
      "Education : 3.68%\n",
      "Social Networking : 3.31%\n",
      "Shopping : 2.59%\n",
      "Utilities : 2.47%\n",
      "Sports : 2.15%\n",
      "Music : 2.06%\n",
      "Health & Fitness : 2.03%\n",
      "Productivity : 1.75%\n",
      "Lifestyle : 1.56%\n",
      "News : 1.34%\n",
      "Travel : 1.25%\n",
      "Finance : 1.09%\n",
      "Weather : 0.87%\n",
      "Food & Drink : 0.81%\n",
      "Reference : 0.53%\n",
      "Business : 0.53%\n",
      "Book : 0.37%\n",
      "Navigation : 0.19%\n",
      "Medical : 0.19%\n",
      "Catalogs : 0.12%\n"
     ]
    }
   ],
   "source": [
    "apple_genre_freq = display_table(ios_free_clean, 11)\n"
   ]
  },
  {
   "cell_type": "markdown",
   "metadata": {},
   "source": [
    "With 58.26% of the downloads, games is by far the most popular app genre.  Also of the top 5, 3 are for entertainment purposes, indicating that entertainment apps get the most usage, and practical purposes such as  health and fitness are less.  Now this is true only for free apps for english users, and doesn't necessarily reflect the entire dataset as a whole.  This also does not reflect the number of users of each app, merely the number of apps in each genre on the Apple App Store."
   ]
  },
  {
   "cell_type": "code",
   "execution_count": 65,
   "metadata": {},
   "outputs": [
    {
     "name": "stdout",
     "output_type": "stream",
     "text": [
      "Tools : 8.44%\n",
      "Entertainment : 6.08%\n",
      "Education : 5.36%\n",
      "Business : 4.60%\n",
      "Productivity : 3.90%\n",
      "Lifestyle : 3.88%\n",
      "Finance : 3.71%\n",
      "Medical : 3.54%\n",
      "Sports : 3.46%\n",
      "Personalization : 3.32%\n",
      "Communication : 3.23%\n",
      "Action : 3.10%\n",
      "Health & Fitness : 3.09%\n",
      "Photography : 2.95%\n",
      "News & Magazines : 2.80%\n",
      "Social : 2.67%\n",
      "Travel & Local : 2.33%\n",
      "Shopping : 2.25%\n",
      "Books & Reference : 2.14%\n",
      "Simulation : 2.05%\n",
      "Dating : 1.87%\n",
      "Arcade : 1.84%\n",
      "Video Players & Editors : 1.77%\n",
      "Casual : 1.76%\n",
      "Maps & Navigation : 1.39%\n",
      "Food & Drink : 1.24%\n",
      "Puzzle : 1.13%\n",
      "Racing : 0.99%\n",
      "Role Playing : 0.94%\n",
      "Libraries & Demo : 0.94%\n",
      "Auto & Vehicles : 0.93%\n",
      "Strategy : 0.90%\n",
      "House & Home : 0.80%\n",
      "Weather : 0.79%\n",
      "Events : 0.71%\n",
      "Adventure : 0.67%\n",
      "Comics : 0.60%\n",
      "Beauty : 0.60%\n",
      "Art & Design : 0.60%\n",
      "Parenting : 0.50%\n",
      "Card : 0.45%\n",
      "Trivia : 0.42%\n",
      "Casino : 0.42%\n",
      "Educational;Education : 0.40%\n",
      "Board : 0.38%\n",
      "Educational : 0.37%\n",
      "Education;Education : 0.34%\n",
      "Word : 0.26%\n",
      "Casual;Pretend Play : 0.24%\n",
      "Music : 0.20%\n",
      "Racing;Action & Adventure : 0.17%\n",
      "Puzzle;Brain Games : 0.17%\n",
      "Entertainment;Music & Video : 0.17%\n",
      "Casual;Brain Games : 0.14%\n",
      "Casual;Action & Adventure : 0.14%\n",
      "Arcade;Action & Adventure : 0.12%\n",
      "Action;Action & Adventure : 0.10%\n",
      "Educational;Pretend Play : 0.09%\n",
      "Simulation;Action & Adventure : 0.08%\n",
      "Parenting;Education : 0.08%\n",
      "Entertainment;Brain Games : 0.08%\n",
      "Board;Brain Games : 0.08%\n",
      "Parenting;Music & Video : 0.07%\n",
      "Educational;Brain Games : 0.07%\n",
      "Casual;Creativity : 0.07%\n",
      "Art & Design;Creativity : 0.07%\n",
      "Education;Pretend Play : 0.06%\n",
      "Role Playing;Pretend Play : 0.05%\n",
      "Education;Creativity : 0.05%\n",
      "Role Playing;Action & Adventure : 0.03%\n",
      "Puzzle;Action & Adventure : 0.03%\n",
      "Entertainment;Creativity : 0.03%\n",
      "Entertainment;Action & Adventure : 0.03%\n",
      "Educational;Creativity : 0.03%\n",
      "Educational;Action & Adventure : 0.03%\n",
      "Education;Music & Video : 0.03%\n",
      "Education;Brain Games : 0.03%\n",
      "Education;Action & Adventure : 0.03%\n",
      "Adventure;Action & Adventure : 0.03%\n",
      "Video Players & Editors;Music & Video : 0.02%\n",
      "Sports;Action & Adventure : 0.02%\n",
      "Simulation;Pretend Play : 0.02%\n",
      "Puzzle;Creativity : 0.02%\n",
      "Music;Music & Video : 0.02%\n",
      "Entertainment;Pretend Play : 0.02%\n",
      "Casual;Education : 0.02%\n",
      "Board;Action & Adventure : 0.02%\n",
      "Video Players & Editors;Creativity : 0.01%\n",
      "Trivia;Education : 0.01%\n",
      "Travel & Local;Action & Adventure : 0.01%\n",
      "Tools;Education : 0.01%\n",
      "Strategy;Education : 0.01%\n",
      "Strategy;Creativity : 0.01%\n",
      "Strategy;Action & Adventure : 0.01%\n",
      "Simulation;Education : 0.01%\n",
      "Role Playing;Brain Games : 0.01%\n",
      "Racing;Pretend Play : 0.01%\n",
      "Puzzle;Education : 0.01%\n",
      "Parenting;Brain Games : 0.01%\n",
      "Music & Audio;Music & Video : 0.01%\n",
      "Lifestyle;Pretend Play : 0.01%\n",
      "Lifestyle;Education : 0.01%\n",
      "Health & Fitness;Education : 0.01%\n",
      "Health & Fitness;Action & Adventure : 0.01%\n",
      "Entertainment;Education : 0.01%\n",
      "Communication;Creativity : 0.01%\n",
      "Comics;Creativity : 0.01%\n",
      "Casual;Music & Video : 0.01%\n",
      "Card;Action & Adventure : 0.01%\n",
      "Books & Reference;Education : 0.01%\n",
      "Art & Design;Pretend Play : 0.01%\n",
      "Art & Design;Action & Adventure : 0.01%\n",
      "Arcade;Pretend Play : 0.01%\n",
      "Adventure;Education : 0.01%\n"
     ]
    }
   ],
   "source": [
    "google_genre_freq = display_table(android_free_clean, 9)"
   ]
  },
  {
   "cell_type": "code",
   "execution_count": 66,
   "metadata": {},
   "outputs": [
    {
     "name": "stdout",
     "output_type": "stream",
     "text": [
      "FAMILY : 18.93%\n",
      "GAME : 9.70%\n",
      "TOOLS : 8.45%\n",
      "BUSINESS : 4.60%\n",
      "PRODUCTIVITY : 3.90%\n",
      "LIFESTYLE : 3.89%\n",
      "FINANCE : 3.71%\n",
      "MEDICAL : 3.54%\n",
      "SPORTS : 3.39%\n",
      "PERSONALIZATION : 3.32%\n",
      "COMMUNICATION : 3.23%\n",
      "HEALTH_AND_FITNESS : 3.09%\n",
      "PHOTOGRAPHY : 2.95%\n",
      "NEWS_AND_MAGAZINES : 2.80%\n",
      "SOCIAL : 2.67%\n",
      "TRAVEL_AND_LOCAL : 2.34%\n",
      "SHOPPING : 2.25%\n",
      "BOOKS_AND_REFERENCE : 2.14%\n",
      "DATING : 1.87%\n",
      "VIDEO_PLAYERS : 1.80%\n",
      "MAPS_AND_NAVIGATION : 1.39%\n",
      "FOOD_AND_DRINK : 1.24%\n",
      "EDUCATION : 1.16%\n",
      "ENTERTAINMENT : 0.96%\n",
      "LIBRARIES_AND_DEMO : 0.94%\n",
      "AUTO_AND_VEHICLES : 0.93%\n",
      "HOUSE_AND_HOME : 0.80%\n",
      "WEATHER : 0.79%\n",
      "EVENTS : 0.71%\n",
      "PARENTING : 0.66%\n",
      "ART_AND_DESIGN : 0.64%\n",
      "COMICS : 0.61%\n",
      "BEAUTY : 0.60%\n"
     ]
    }
   ],
   "source": [
    "google_category_freq = display_table(android_free_clean, 1)"
   ]
  },
  {
   "cell_type": "markdown",
   "metadata": {},
   "source": [
    "The two frequency tables for the Play store however indicatate that there are more practical apps, plus family oriented apps.  But entertainment still occupies a large portion of the apps.  While it is too early to confidently build an app profile, entertainment still seems to be the safest bet."
   ]
  },
  {
   "cell_type": "code",
   "execution_count": 68,
   "metadata": {},
   "outputs": [
    {
     "name": "stdout",
     "output_type": "stream",
     "text": [
      "Navigation : 86090.333%\n",
      "Reference : 79350.471%\n",
      "Social Networking : 71548.349%\n",
      "Music : 57326.530%\n",
      "Weather : 52279.893%\n",
      "Book : 46384.917%\n",
      "Food & Drink : 33333.923%\n",
      "Finance : 32367.029%\n",
      "Photo & Video : 28441.544%\n",
      "Travel : 28243.800%\n",
      "Shopping : 27230.735%\n",
      "Health & Fitness : 23298.015%\n",
      "Sports : 23008.899%\n",
      "Games : 22886.367%\n",
      "News : 21248.023%\n",
      "Productivity : 21028.411%\n",
      "Utilities : 19156.494%\n",
      "Lifestyle : 16815.480%\n",
      "Entertainment : 14195.359%\n",
      "Business : 7491.118%\n",
      "Education : 7003.983%\n",
      "Catalogs : 4004.000%\n",
      "Medical : 612.000%\n"
     ]
    }
   ],
   "source": [
    "ios_genre = freq_table(ios_free_clean, 11)\n",
    "ios_genre_list = []\n",
    "\n",
    "for genre in ios_genre:\n",
    "    total = 0\n",
    "    len_genre = 0\n",
    "    for row in ios_free_clean:\n",
    "        genre_app = row[11]\n",
    "        if genre_app == genre:\n",
    "            total += float(row[5])\n",
    "            len_genre += 1\n",
    "    ave_n_ratings = total/len_genre\n",
    "    ios_genre_list.append([ave_n_ratings, genre])\n",
    "    \n",
    "for row in sorted(ios_genre_list, reverse = True):\n",
    "    print(row[1], ':', f'{row[0]:.3f}''%')"
   ]
  },
  {
   "cell_type": "markdown",
   "metadata": {},
   "source": [
    "Despite games being the most common genre of app in the App store, navigation, reference and Social Networking top the list in average number of reviews.  Now we do not have a column for number of downloads so number of reviews is the closest we can get to see how popular genres of apps are.  Now our goal is to create an app profile that generates revenue from in app ads.  Ads in a navigation app are more likely to be ignored as people are usually in transit while using them and do not have a time to check out different products.  Social networking and reference apps are next most polular in terms of number of reviews, but just because there are a lot of reviews does not mean that they are good.  Let's now look at the highest rated genres."
   ]
  },
  {
   "cell_type": "code",
   "execution_count": 69,
   "metadata": {},
   "outputs": [
    {
     "name": "stdout",
     "output_type": "stream",
     "text": [
      "Catalogs : 4.125\n",
      "Games : 4.052\n",
      "Productivity : 4.000\n",
      "Shopping : 3.976\n",
      "Business : 3.971\n",
      "Music : 3.947\n",
      "Photo & Video : 3.903\n",
      "Reference : 3.882\n",
      "Navigation : 3.833\n",
      "Health & Fitness : 3.769\n",
      "Education : 3.636\n",
      "Food & Drink : 3.635\n",
      "Social Networking : 3.594\n",
      "Book : 3.583\n",
      "Utilities : 3.570\n",
      "Entertainment : 3.548\n",
      "Travel : 3.487\n",
      "Weather : 3.482\n",
      "Lifestyle : 3.480\n",
      "Finance : 3.471\n",
      "News : 3.244\n",
      "Sports : 3.065\n",
      "Medical : 3.000\n"
     ]
    }
   ],
   "source": [
    "apple_genre = freq_table(ios_free_clean, 11)\n",
    "\n",
    "apple_genre_list = []\n",
    "\n",
    "for genre in apple_genre:\n",
    "    total = 0\n",
    "    len_genre = 0\n",
    "    for row in ios_free_clean:\n",
    "        genre_app = row[11]\n",
    "        if genre_app == genre:\n",
    "            total += float(row[7])\n",
    "            len_genre += 1\n",
    "    ave_ratings = total/len_genre\n",
    "    apple_genre_list.append([ave_ratings, genre])\n",
    "    \n",
    "for row in sorted(apple_genre_list, reverse = True):\n",
    "    print(row[1], ':', f'{row[0]:.3f}')"
   ]
  },
  {
   "cell_type": "markdown",
   "metadata": {},
   "source": [
    "Now let's compare the number of reviews and average reviews for the top 5 genres.\n",
    "\n",
    "Number of reviews: \n",
    "    1. Navigation\n",
    "    2. Reference\n",
    "    3. Social Networking\n",
    "    4. Music\n",
    "    5. Weather   \n",
    "Average rating:     \n",
    "    1. Catalogs\n",
    "    2. Games\n",
    "    3. Productivity\n",
    "    4. Shopping\n",
    "    5. Business"
   ]
  },
  {
   "cell_type": "markdown",
   "metadata": {},
   "source": [
    "Due to the sheer volume of games in the app store, creating a new game runs the risk of having that game get lost in the plethora of choices in the app store.  Looking at the highest number of reviews and the highest ratings speaks to a new social media platform specifically geared towards shopping and business.  Let's look at the google play store installs for each genre and see if this idea would play well in the paly store as well!"
   ]
  },
  {
   "cell_type": "code",
   "execution_count": 70,
   "metadata": {},
   "outputs": [
    {
     "name": "stdout",
     "output_type": "stream",
     "text": [
      "COMMUNICATION : 38590581.087\n",
      "VIDEO_PLAYERS : 24727872.453\n",
      "SOCIAL : 23253652.127\n",
      "PHOTOGRAPHY : 17840110.402\n",
      "PRODUCTIVITY : 16787331.345\n",
      "GAME : 15544014.510\n",
      "TRAVEL_AND_LOCAL : 13984077.710\n",
      "ENTERTAINMENT : 11640705.882\n",
      "TOOLS : 10830251.971\n",
      "NEWS_AND_MAGAZINES : 9549178.468\n",
      "BOOKS_AND_REFERENCE : 8814199.788\n",
      "SHOPPING : 7036877.312\n",
      "PERSONALIZATION : 5201482.612\n",
      "WEATHER : 5145550.286\n",
      "HEALTH_AND_FITNESS : 4188821.985\n",
      "MAPS_AND_NAVIGATION : 4049274.634\n",
      "FAMILY : 3697848.173\n",
      "SPORTS : 3650602.277\n",
      "ART_AND_DESIGN : 1986335.088\n",
      "FOOD_AND_DRINK : 1924897.736\n",
      "EDUCATION : 1833495.146\n",
      "BUSINESS : 1712290.147\n",
      "LIFESTYLE : 1446158.224\n",
      "FINANCE : 1387692.476\n",
      "HOUSE_AND_HOME : 1360598.042\n",
      "DATING : 854028.830\n",
      "COMICS : 832613.889\n",
      "AUTO_AND_VEHICLES : 647317.817\n",
      "LIBRARIES_AND_DEMO : 638503.735\n",
      "PARENTING : 542603.621\n",
      "BEAUTY : 513151.887\n",
      "EVENTS : 253542.222\n",
      "MEDICAL : 120550.620\n"
     ]
    }
   ],
   "source": [
    "google_category = freq_table(android_free_clean, 1)\n",
    "\n",
    "ios_cat_list = []\n",
    "\n",
    "for category in google_category:\n",
    "    total = 0\n",
    "    len_category = 0\n",
    "    for row in android_free_clean:\n",
    "        category_app = row[1]\n",
    "        if category_app == category:\n",
    "            n_installs = row[5]\n",
    "            n_installs = n_installs.replace(',', '')\n",
    "            n_installs = n_installs.replace('+', '')\n",
    "            n_installs = float(n_installs)\n",
    "            total += n_installs\n",
    "            len_category += 1\n",
    "    ave_n_installs = total/len_category\n",
    "    ios_cat_list.append([ave_n_installs, category])\n",
    "    \n",
    "for row in sorted(ios_cat_list, reverse = True):\n",
    "    print(row[1], ':', f'{row[0]:.3f}')"
   ]
  },
  {
   "cell_type": "markdown",
   "metadata": {},
   "source": [
    "## Building an App Profile"
   ]
  },
  {
   "cell_type": "markdown",
   "metadata": {},
   "source": [
    "The genres with the most number of installs include games, social and photography.  Combining this with the results of the app store analysis give us a clear idea of an app profile.  What we are proposing for an app profile is a social media app that businesses partner with to provide users with discounts.  This app will encourage users to travel the city to get steps and find landmarks.  This app will track location and send the users ads with mystery businesses that will require the user to open to see.  In these ads will be small discounts to local stores that can only be unlocked by reaching a certain number of steps or travelling to a certain landmark nearby and taking a picture to upload to the app. Following businesses and uploading pics of users in front of those businesses will also unlock discounts for the user."
   ]
  },
  {
   "cell_type": "code",
   "execution_count": null,
   "metadata": {},
   "outputs": [],
   "source": []
  }
 ],
 "metadata": {
  "kernelspec": {
   "display_name": "Python 3",
   "language": "python",
   "name": "python3"
  },
  "language_info": {
   "codemirror_mode": {
    "name": "ipython",
    "version": 3
   },
   "file_extension": ".py",
   "mimetype": "text/x-python",
   "name": "python",
   "nbconvert_exporter": "python",
   "pygments_lexer": "ipython3",
   "version": "3.8.3"
  }
 },
 "nbformat": 4,
 "nbformat_minor": 4
}
